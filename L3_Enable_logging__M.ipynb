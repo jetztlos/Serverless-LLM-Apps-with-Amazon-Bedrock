{
 "cells": [
  {
   "cell_type": "markdown",
   "id": "cc6b7b9f-a75d-4b78-930f-26d2343ac2c2",
   "metadata": {},
   "source": [
    "# Lesson 3: Enable Logging"
   ]
  },
  {
   "cell_type": "markdown",
   "id": "06fc5839-0b4b-42a3-9aaf-99a97e347955",
   "metadata": {},
   "source": [
    "### Import all needed packages"
   ]
  },
  {
   "cell_type": "code",
   "execution_count": 1,
   "id": "63cf31e4",
   "metadata": {
    "height": 119
   },
   "outputs": [],
   "source": [
    "import boto3\n",
    "import json\n",
    "import os\n",
    "\n",
    "bedrock = boto3.client('bedrock', region_name=\"us-west-2\")"
   ]
  },
  {
   "cell_type": "code",
   "execution_count": 2,
   "id": "e5d9e31b",
   "metadata": {
    "height": 68
   },
   "outputs": [],
   "source": [
    "from helpers.CloudWatchHelper import CloudWatch_Helper\n",
    "cloudwatch = CloudWatch_Helper()"
   ]
  },
  {
   "cell_type": "code",
   "execution_count": 3,
   "id": "87a30e7e",
   "metadata": {
    "height": 30
   },
   "outputs": [],
   "source": [
    "log_group_name = '/my/amazon/bedrock/logs'"
   ]
  },
  {
   "cell_type": "code",
   "execution_count": 4,
   "id": "2461a51c",
   "metadata": {
    "height": 30
   },
   "outputs": [
    {
     "name": "stdout",
     "output_type": "stream",
     "text": [
      "Log group '/my/amazon/bedrock/logs' created successfully.\n"
     ]
    }
   ],
   "source": [
    "cloudwatch.create_log_group(log_group_name)"
   ]
  },
  {
   "cell_type": "code",
   "execution_count": 5,
   "id": "0afe5997",
   "metadata": {
    "height": 289
   },
   "outputs": [],
   "source": [
    "loggingConfig = {\n",
    "    'cloudWatchConfig': {\n",
    "        'logGroupName': log_group_name,\n",
    "        'roleArn': os.environ['LOGGINGROLEARN'],\n",
    "        'largeDataDeliveryS3Config': {\n",
    "            'bucketName': os.environ['LOGGINGBUCKETNAME'],\n",
    "            'keyPrefix': 'amazon_bedrock_large_data_delivery',\n",
    "        }\n",
    "    },\n",
    "    's3Config': {\n",
    "        'bucketName': os.environ['LOGGINGBUCKETNAME'],\n",
    "        'keyPrefix': 'amazon_bedrock_logs',\n",
    "    },\n",
    "    'textDataDeliveryEnabled': True,\n",
    "}"
   ]
  },
  {
   "cell_type": "code",
   "execution_count": 6,
   "id": "2ca33ffe",
   "metadata": {
    "height": 51
   },
   "outputs": [
    {
     "data": {
      "text/plain": [
       "{'ResponseMetadata': {'RequestId': 'e442c895-e3f2-445a-b862-d59808ac1bd7',\n",
       "  'HTTPStatusCode': 200,\n",
       "  'HTTPHeaders': {'date': 'Mon, 11 Nov 2024 09:06:43 GMT',\n",
       "   'content-type': 'application/json',\n",
       "   'content-length': '2',\n",
       "   'connection': 'keep-alive',\n",
       "   'x-amzn-requestid': 'e442c895-e3f2-445a-b862-d59808ac1bd7'},\n",
       "  'RetryAttempts': 0}}"
      ]
     },
     "execution_count": 6,
     "metadata": {},
     "output_type": "execute_result"
    }
   ],
   "source": [
    "bedrock.put_model_invocation_logging_configuration(loggingConfig=loggingConfig)"
   ]
  },
  {
   "cell_type": "code",
   "execution_count": 7,
   "id": "41fdb20d",
   "metadata": {
    "height": 51
   },
   "outputs": [
    {
     "data": {
      "text/plain": [
       "{'ResponseMetadata': {'RequestId': 'b7de08a9-9a7f-49f1-b1a9-1542eb7b9b37',\n",
       "  'HTTPStatusCode': 200,\n",
       "  'HTTPHeaders': {'date': 'Mon, 11 Nov 2024 09:06:43 GMT',\n",
       "   'content-type': 'application/json',\n",
       "   'content-length': '604',\n",
       "   'connection': 'keep-alive',\n",
       "   'x-amzn-requestid': 'b7de08a9-9a7f-49f1-b1a9-1542eb7b9b37'},\n",
       "  'RetryAttempts': 0},\n",
       " 'loggingConfig': {'cloudWatchConfig': {'logGroupName': '/my/amazon/bedrock/logs',\n",
       "   'roleArn': 'arn:aws:iam::521925185510:role/c99355a2566044l8334316t1w52192518551-LoggingIAMRole-EWktuSRJ8AWX',\n",
       "   'largeDataDeliveryS3Config': {'bucketName': 'c99355a2566044l8334316t1w521925185-loggings3bucket-fxinaaualyun',\n",
       "    'keyPrefix': 'amazon_bedrock_large_data_delivery'}},\n",
       "  's3Config': {'bucketName': 'c99355a2566044l8334316t1w521925185-loggings3bucket-fxinaaualyun',\n",
       "   'keyPrefix': 'amazon_bedrock_logs'},\n",
       "  'textDataDeliveryEnabled': True,\n",
       "  'imageDataDeliveryEnabled': True,\n",
       "  'embeddingDataDeliveryEnabled': True}}"
      ]
     },
     "execution_count": 7,
     "metadata": {},
     "output_type": "execute_result"
    }
   ],
   "source": [
    "bedrock.get_model_invocation_logging_configuration()"
   ]
  },
  {
   "cell_type": "code",
   "execution_count": 8,
   "id": "95ebecb7",
   "metadata": {
    "height": 51
   },
   "outputs": [],
   "source": [
    "bedrock_runtime = boto3.client('bedrock-runtime', region_name=\"us-west-2\")"
   ]
  },
  {
   "cell_type": "code",
   "execution_count": 9,
   "id": "402c6311",
   "metadata": {
    "height": 442
   },
   "outputs": [
    {
     "name": "stdout",
     "output_type": "stream",
     "text": [
      "\n",
      "Foobar is a fictional planet in the science fiction novel series \"Star Trek\". It is the home planet of the Ferengi race, a species of aliens who are known for their business acumen and their love of profit.\n",
      "\n",
      "Foobar is a planet that is located in the Gamma Quadrant of the galaxy, far from the Federation's home planet of Earth. The planet is ruled by a single government known as the Ferengi Alliance, which is led by a council of powerful Ferengi merchants. The Ferengi are known for their business practices, which involve a variety of illegal activities such as smuggling, extortion, and fraud.\n",
      "\n",
      "Despite their reputation for being greedy, the Ferengi are also known for their sense of honor and their loyalty to their fellow Ferengi. They have a complex social structure that is based on the accumulation of wealth and the pursuit of profit. The Ferengi have a variety of different social classes, including merchants, nobles, and workers. Merchants are the most powerful and influential members of the Ferengi society, and they are responsible for managing the planet's economy. Nobles are the second most powerful members of the society, and they are responsible for managing the planet's government. Workers are the lowest social class in the Ferengi society, and they are responsible for performing the manual labor that is necessary to maintain the planet's infrastructure.\n",
      "\n",
      "Foobar is a planet that is rich in natural resources, including minerals, metals, and energy. The Ferengi have developed advanced technologies that allow them to exploit these resources and make a profit. The Ferengi have also developed a variety of weapons and defense systems that are used to protect their planet from attack.\n",
      "\n",
      "One of the most interesting aspects of Foobar is the Ferengi culture. The Ferengi have a unique language that is based on a combination of slang and business terminology. The Ferengi also have a unique set of customs and traditions that are based on their belief in the pursuit of profit. For example, the Ferengi have a tradition of wearing red clothing, which is believed to bring good luck.\n",
      "\n",
      "The Ferengi have also developed a variety of social customs that are designed to promote the accumulation of wealth. For example, the Ferengi have a tradition of giving gifts to their friends and family members, and they expect to receive gifts in return. The Ferengi also have a tradition of holding auctions, where they sell off their goods and services to the highest bidder.\n",
      "\n",
      "Despite their reputation for being greedy, the Ferengi are also known for their\n"
     ]
    }
   ],
   "source": [
    "prompt = \"Write an article about the fictional planet Foobar.\"\n",
    "\n",
    "kwargs = {\n",
    "    \"modelId\": \"amazon.titan-text-express-v1\",\n",
    "    \"contentType\": \"application/json\",\n",
    "    \"accept\": \"*/*\",\n",
    "    \"body\": json.dumps(\n",
    "        {\n",
    "            \"inputText\": prompt,\n",
    "            \"textGenerationConfig\": {\n",
    "                \"maxTokenCount\": 512,\n",
    "                \"temperature\": 0.7,\n",
    "                \"topP\": 0.9\n",
    "            }\n",
    "        }\n",
    "    )\n",
    "}\n",
    "\n",
    "response = bedrock_runtime.invoke_model(**kwargs)\n",
    "response_body = json.loads(response.get('body').read())\n",
    "\n",
    "generation = response_body['results'][0]['outputText']\n",
    "\n",
    "print(generation)"
   ]
  },
  {
   "cell_type": "code",
   "execution_count": 10,
   "id": "68a7bab7",
   "metadata": {
    "height": 30
   },
   "outputs": [
    {
     "name": "stdout",
     "output_type": "stream",
     "text": [
      "Permissions are correctly set for Amazon Bedrock logs.\n",
      "-------------------------\n",
      "\n"
     ]
    }
   ],
   "source": [
    "cloudwatch.print_recent_logs(log_group_name)"
   ]
  },
  {
   "cell_type": "markdown",
   "id": "1118acfb",
   "metadata": {},
   "source": [
    "To review the logs within the AWS console, please use the following link to reference the steps outlined in the video:"
   ]
  },
  {
   "cell_type": "code",
   "execution_count": 11,
   "id": "2cf443d2",
   "metadata": {
    "height": 47
   },
   "outputs": [],
   "source": [
    "from IPython.display import HTML\n",
    "aws_url = os.environ['AWS_CONSOLE_URL']"
   ]
  },
  {
   "cell_type": "code",
   "execution_count": 12,
   "id": "0b7c904c",
   "metadata": {
    "height": 68
   },
   "outputs": [
    {
     "data": {
      "text/html": [
       "<a href=\"https://signin.aws.amazon.com/federation?Action=login&SigninToken=xhmbOGz4d1mMxpZUJYtD_cSHFyaji1aCGRuBWSApBsxoyvQ_BXPjTsQa4-NRn4yEX7fM_gK7LEb4yqLObPj41-LS93DmZkiO99Ll_SZL3X6xD1QSrtHnvxawK1uKSDyTvkJRtAb8TtbwLNf6NBe_IwkwqrnSECboFt_7MLRm0QArfRmAiMZHUQuUob_xtEsPOye5lleX3hJJipljwB8_0RfB7vataY7HLpe8wEk_MIA2cbXtrLH1xjb0RzKDDWKqqEFoquJe_YK7BVXR5g5SiFDLP20jdgjFl96x7i0PTdHa58QNY_i8kAR5H7lxvsKpZ7m1GTKOdU6sYzs29ZidJEIiSPiG1z_UqCkh46dErIJfLwBESC9EkRz3TXBy_LgXarZuBxGyd9RskStRw8-0aBrFf1d0jPb16MYjhGeumSl2wFMRvyqP8jIWBUdif9vT6Itg-aSOUPub_z_z9EEiOLfKtB9ntm3DpR6pE1zt9kVpwYQktFMelrtnV1Hl8vqAfvTDa0r1Im4bY5jJcONWTRJhqCHA6P5KtCtrQzfrMGfOi9SuRzxyjzO9beIPlA0H9h0iEHkDijqnObf4ME8k-lpQbiV1rMr4H88rLeGGjBgAW7z4CLK-8vrCDNgtapWrVdaTPCGF9ckMAjBvHh7OpnVR-vgQ7FARKbkZZOcI8uwiax4pGbapwHCO0gVTZzp85QhjUwYSy1Rx-npIQ1cbcM0sXVsSHzPo1COfOsqXp2eOIFQmgkgB_n28YZb7RRyuMQViI285spDQ33yI3SiquYwrtJWEH4vIIf6CqINywbk0CgnMHqc7L0j_D8xdfaF-a-L3rNEs8ogUvjUQv39A9VqFnWa9n5ov6olFxFNklastTMZuqRtd1ZCpBY9657iwB_zBZZZs3EEywbATaBR0AVb4MV3Yo-fel-_UiBGnjuV1wzC7kxG9vaVvGXFp3qYHX3rG_flbsO2BTmlOEsaWnx3Npex8S3lYWxQB5uOdyqrTAXvHyQ-SYuK6lEYJ-kQMLe2lbAen5iEnwjEXn6qfe3Vy-zEkj8D4mCqqyXWeM4lgyOvMOobkoQ4a1_oJ7KKFfiyl96GEnsGKlZotT3mc-a2qoNViSGDYyX8wj8tEL0aH0vz1lodhLvJDLC8GVb1jMRvSNLQ5RaytFSsVwEnhfIoBP0g_fai8ZVSWi2Uxm-JPq_h88_eBlnbt0qlhaXTt_x76j2AQBqfN9YMVsvPIELTmTnukxvEgS5xImtAIfuZP9La9xCv8AEAQ_YyydTXEyUhgu5xTRy5kL4K5d50hS39RPzs99rZomel0ty558sl-7LynLvmXCRLCtALGqRjFIFM0De7zw-y20zWBfQa_wFs6DEbS34INtpcxrVA0eS-PZdnOeop29bZhjn7ujhV2ZVn3HbpdDld7GskmrC91w2kUXQ3uF55HtZgysV5jqAiAsE8g0RDOOBraGp2nvTh6Iqz-ZdIL0LfxYLoxf0BbJMGVW17UJYDzECcBF-XtrLZCXDlrLwIWqNRoPWJry_36OMprxUT1UwiQPg&Issuer=https%3A%2F%2Fapi.vocareum.com&Destination=https%3A%2F%2Fconsole.aws.amazon.com%2Fconsole%2Fhome%3Fregion%3Dus-west-2\" target=\"_blank\">GO TO AWS CONSOLE</a>"
      ],
      "text/plain": [
       "<IPython.core.display.HTML object>"
      ]
     },
     "execution_count": 12,
     "metadata": {},
     "output_type": "execute_result"
    }
   ],
   "source": [
    "HTML(f'<a href=\"{aws_url}\" target=\"_blank\">GO TO AWS CONSOLE</a>')\n"
   ]
  }
 ],
 "metadata": {
  "kernelspec": {
   "display_name": "Python 3 (ipykernel)",
   "language": "python",
   "name": "python3"
  },
  "language_info": {
   "codemirror_mode": {
    "name": "ipython",
    "version": 3
   },
   "file_extension": ".py",
   "mimetype": "text/x-python",
   "name": "python",
   "nbconvert_exporter": "python",
   "pygments_lexer": "ipython3",
   "version": "3.11.9"
  }
 },
 "nbformat": 4,
 "nbformat_minor": 5
}
